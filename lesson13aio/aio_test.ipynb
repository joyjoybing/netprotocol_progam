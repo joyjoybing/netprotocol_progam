{
 "cells": [
  {
   "cell_type": "code",
   "execution_count": 2,
   "id": "4c03144c-7bf8-498e-80fa-c9096f5db8bf",
   "metadata": {},
   "outputs": [],
   "source": [
    "#include <aio.h>\n",
    "#include <fcntl.h>\n",
    "#include <unistd.h>\n",
    "#include <stdio.h>\n",
    "#include <stdlib.h>\n",
    "#include <errno.h>\n",
    "#include <string.h>\n",
    "#include <signal.h>"
   ]
  },
  {
   "cell_type": "code",
   "execution_count": null,
   "id": "9ab5061e-d907-4a75-ba64-3fddf9004f23",
   "metadata": {},
   "outputs": [],
   "source": [
    "\n",
    "aio_read(&cb)\n",
    "#需要定义以下结构体\n",
    "struct aiocb cb;\n",
    "// gcc -o test aio_signal.c -lrt "
   ]
  },
  {
   "cell_type": "code",
   "execution_count": 5,
   "id": "b162f27c-4f11-4f6f-9bc1-36085f4a34f5",
   "metadata": {},
   "outputs": [],
   "source": [
    "    struct aiocb cb;\n",
    "    char sbuf[100];\n",
    "    #填充aiocb结构体\n",
    "\n",
    "    cb.aio_fildes = 0;\n",
    "\tcb.aio_buf = sbuf;\n",
    "\tcb.aio_nbytes = 100;\n",
    "\tcb.aio_offset = 0;\n",
    "\n",
    "\tcb.aio_sigevent.sigev_value.sival_ptr = &cb;\n",
    "\tcb.aio_sigevent.sigev_notify = SIGEV_SIGNAL;\n",
    "\tcb.aio_sigevent.sigev_signo = SIGUSR1;\n",
    "    aio_read(&cb);"
   ]
  },
  {
   "cell_type": "code",
   "execution_count": null,
   "id": "1355e105-1fc3-469f-83bc-909a02fd2f45",
   "metadata": {},
   "outputs": [],
   "source": [
    "#   aio_read(&cb) 异步执行 也就是非阻塞，  怎么读取sbuf的数据？\n",
    "\tstruct aiocb cb;\n",
    "\tchar sbuf[100];\n",
    "\tint ret;\n",
    "\n",
    "\tbzero(&cb, sizeof(cb));\n",
    "\n",
    "\tcb.aio_fildes = 0;\n",
    "\tcb.aio_buf = sbuf;\n",
    "\tcb.aio_nbytes = 100;\n",
    "\tcb.aio_offset = 0;\n",
    "\n",
    "\tcb.aio_sigevent.sigev_value.sival_ptr = &cb;\n",
    "\tcb.aio_sigevent.sigev_notify = SIGEV_SIGNAL;\n",
    "\tcb.aio_sigevent.sigev_signo = SIGUSR1;\n",
    "\tret = aio_read(&cb);\n",
    "# 后面主程序继续执行任务，  当数据完成进入用户空间时，SIGUSR1信号发出，\n",
    "#程序处理SIGUSR1信号  \n",
    "\tif (ret == -1) {\n",
    "\t\tperror(\"aio_read\");\n",
    "\t\texit(1);\n",
    "\t}\n",
    "\tint i = 0;\n",
    "\twhile (1) {\n",
    "\t\tprintf(\"%d\\n\",i++);\n",
    "\t\tsleep(3);\n",
    "\t}\n",
    "\n"
   ]
  },
  {
   "cell_type": "code",
   "execution_count": null,
   "id": "438485b1-3598-486d-9707-30a1fae0d091",
   "metadata": {},
   "outputs": [],
   "source": [
    "#程序处理SIGUSR1信号  \n",
    "    void async_read(int s, siginfo_t * info, void * context)\n",
    "    {\n",
    "        #read aio_buf中的数据\n",
    "    }\n",
    "\n",
    "    struct sigaction act;\n",
    "\tsigemptyset(&act.sa_mask);\n",
    "\tact.sa_flags = SA_RESTART | SA_SIGINFO;\n",
    "\tact.sa_sigaction = async_read;\n",
    "\tsigaction(SIGUSR1, &act, NULL);\n",
    "   \n"
   ]
  },
  {
   "cell_type": "code",
   "execution_count": null,
   "id": "1587c8c6-16ad-47e1-b746-7aae107fa8c1",
   "metadata": {},
   "outputs": [],
   "source": [
    "#在async_read(int s, siginfo_t * info, void * context)函数中怎么读取 aio_buf中的数据？\n",
    "    void async_read(int s, siginfo_t * info, void * context)\n",
    "    {\n",
    "        struct aiocb *ptr = \n",
    "        (struct aiocb *)info->si_value.sival_ptr;\n",
    "        printf(\"read=%s\", (char *)ptr->aio_buf);    \n",
    "    }\n",
    "si_value联系struct sigaction与struct aiocb的桥梁"
   ]
  },
  {
   "cell_type": "code",
   "execution_count": null,
   "id": "021b2137-6aed-4a84-b8f9-49c2f96bc93c",
   "metadata": {},
   "outputs": [],
   "source": [
    "#完整代码\n",
    "void async_read(int s, siginfo_t * info, void * context)\n",
    "{\n",
    "\tsigval_t\n",
    "\tstruct aiocb *ptr = \n",
    "\t\t(struct aiocb *)info->si_value.sival_ptr;\n",
    "\tprintf(\"read=%s\", (char *)ptr->aio_buf);    \n",
    "}\n",
    "\n",
    "int main(void)\n",
    "{\n",
    "\tstruct aiocb cb;\n",
    "\tchar sbuf[100];\n",
    "\tint ret;\n",
    "\tstruct sigaction act;\n",
    "\tsigemptyset(&act.sa_mask);\n",
    "\tact.sa_flags = SA_RESTART | SA_SIGINFO;  //指定了带三个参数信号处理函数\n",
    "\tact.sa_sigaction = async_read;  //处理函数的地址\n",
    "\n",
    "\tsigaction(SIGUSR1, &act, NULL); //注册信号处理函数\n",
    "\n",
    "\tbzero(&cb, sizeof(cb));\n",
    "\n",
    "\tcb.aio_fildes = 0;\n",
    "\tcb.aio_buf = sbuf;\n",
    "\tcb.aio_nbytes = 100;\n",
    "\tcb.aio_offset = 0;\n",
    "\n",
    "\tcb.aio_sigevent.sigev_value.sival_ptr = &cb; //送个信号处理函数的那个结构体\n",
    "\tcb.aio_sigevent.sigev_notify = SIGEV_SIGNAL;  //异步通知为发信号\n",
    "\tcb.aio_sigevent.sigev_signo = SIGUSR1;  // 发出的信号\n",
    "\tret = aio_read(&cb);\n",
    "\tif (ret == -1) {\n",
    "\t\tperror(\"aio_read\");\n",
    "\t\texit(1);\n",
    "\t}\n",
    "\tint i = 0;\n",
    "\twhile (1) {\n",
    "\t\tprintf(\"%d\\n\",i++);\n",
    "\t\tsleep(3);\n",
    "\t}\n",
    "\n",
    "\treturn 0;\n",
    "}\n",
    "\n",
    "// gcc -o test aio_signal.c -lrt "
   ]
  }
 ],
 "metadata": {
  "kernelspec": {
   "display_name": "Python 3 (ipykernel)",
   "language": "python",
   "name": "python3"
  },
  "language_info": {
   "codemirror_mode": {
    "name": "ipython",
    "version": 3
   },
   "file_extension": ".py",
   "mimetype": "text/x-python",
   "name": "python",
   "nbconvert_exporter": "python",
   "pygments_lexer": "ipython3",
   "version": "3.9.7"
  }
 },
 "nbformat": 4,
 "nbformat_minor": 5
}
